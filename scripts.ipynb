{
 "cells": [
  {
   "cell_type": "markdown",
   "metadata": {},
   "source": [
    "# Problem 1"
   ]
  },
  {
   "cell_type": "markdown",
   "metadata": {},
   "source": [
    "# Introduction"
   ]
  },
  {
   "cell_type": "code",
   "execution_count": null,
   "metadata": {},
   "outputs": [],
   "source": [
    "#Say \"Hello, World!\" With Python\n",
    "print(\"Hello, World!\")"
   ]
  },
  {
   "cell_type": "code",
   "execution_count": null,
   "metadata": {},
   "outputs": [],
   "source": [
    "#Python If-Else\n",
    "#!/bin/python\n",
    "import math\n",
    "import os\n",
    "import random\n",
    "import re\n",
    "import sys\n",
    "if __name__ == '__main__':\n",
    "    n = int(raw_input().strip())\n",
    "    if n%2==1:\n",
    "        print('Weird')\n",
    "    else:\n",
    "        if n<=5 and n>=2:\n",
    "            print('Not Weird')\n",
    "        elif n>=6 and n<=20:\n",
    "            print('Weird')\n",
    "        elif n>20:\n",
    "            print('Not Weird')"
   ]
  },
  {
   "cell_type": "code",
   "execution_count": null,
   "metadata": {},
   "outputs": [],
   "source": [
    "#Print Function\n",
    "from __future__ import print_function\n",
    "\n",
    "if __name__ == '__main__':\n",
    "    n = int(raw_input())\n",
    "    for i in range(1,n+1):\n",
    "        print(i, end=\"\")"
   ]
  },
  {
   "cell_type": "code",
   "execution_count": null,
   "metadata": {},
   "outputs": [],
   "source": [
    "#Python: Division\n",
    "from __future__ import division\n",
    "\n",
    "if __name__ == '__main__':\n",
    "    a = int(raw_input())\n",
    "    b = int(raw_input())\n",
    "    print(a//b)\n",
    "    print(a/b)"
   ]
  },
  {
   "cell_type": "code",
   "execution_count": null,
   "metadata": {},
   "outputs": [],
   "source": [
    "#Write a function\n",
    "def is_leap(year):\n",
    "    if year %4==0:\n",
    "        if year %100==0:\n",
    "            if year%400==0:\n",
    "                return True\n",
    "            else:\n",
    "                return False\n",
    "        else:\n",
    "            return True\n",
    "    else:\n",
    "        return False"
   ]
  },
  {
   "cell_type": "code",
   "execution_count": null,
   "metadata": {},
   "outputs": [],
   "source": [
    "#Arithmetic Operators\n",
    "if __name__ == '__main__':\n",
    "    a = int(raw_input())\n",
    "    b = int(raw_input())\n",
    "    print(a+b)\n",
    "    print(a-b)\n",
    "    print(a*b)"
   ]
  },
  {
   "cell_type": "code",
   "execution_count": null,
   "metadata": {},
   "outputs": [],
   "source": [
    "#Loops\n",
    "if __name__ == '__main__':\n",
    "    n = int(input())\n",
    "    for i in range(n):\n",
    "        print(i**2)"
   ]
  },
  {
   "cell_type": "markdown",
   "metadata": {},
   "source": [
    "# Data types"
   ]
  },
  {
   "cell_type": "code",
   "execution_count": null,
   "metadata": {},
   "outputs": [],
   "source": [
    "#Find the runner-up score\n",
    "if __name__ == '__main__':\n",
    "    n = int(input())\n",
    "    arr = map(int, input().split())\n",
    "    a=list(arr)\n",
    "    a=sorted(a,reverse = True)\n",
    "    b=[]\n",
    "    for i in range(n):\n",
    "        if a[i] not in b:\n",
    "            b.append(a[i])\n",
    "    print(b[1])"
   ]
  },
  {
   "cell_type": "code",
   "execution_count": null,
   "metadata": {},
   "outputs": [],
   "source": [
    "#Nested Lists\n",
    "if __name__ == '__main__':\n",
    "    d={}\n",
    "    scores=[]\n",
    "    names_final=[]\n",
    "    for _ in range(int(input())):\n",
    "            name = input()\n",
    "            score = float(input())\n",
    "            if score not in scores:\n",
    "                scores.append(score)\n",
    "            d[name]=score\n",
    "    names = sorted(d, key=d.get)\n",
    "    scores=sorted(scores)\n",
    "    for key,value in d.items():\n",
    "        if value == scores[1]:\n",
    "            names_final.append(key)\n",
    "    for i in sorted(names_final):\n",
    "        print(i)"
   ]
  },
  {
   "cell_type": "code",
   "execution_count": null,
   "metadata": {},
   "outputs": [],
   "source": [
    "#Finding the percentage\n",
    "if __name__ == '__main__':\n",
    "    n = int(input())\n",
    "    student_marks = {}\n",
    "    for _ in range(n):\n",
    "        name, *line = input().split()\n",
    "        scores = list(map(float, line))\n",
    "        student_marks[name] = scores\n",
    "    query_name = input()\n",
    "    b=student_marks[query_name]\n",
    "    a=0\n",
    "    for i in range(len(b)):\n",
    "        a+=b[i]\n",
    "    a=\"{:.2f}\".format(a/len(b))\n",
    "    print(a)"
   ]
  },
  {
   "cell_type": "code",
   "execution_count": null,
   "metadata": {},
   "outputs": [],
   "source": [
    "#Lists\n",
    "if __name__ == '__main__':\n",
    "    N = int(input())\n",
    "    b=[]\n",
    "    for i in range(N):\n",
    "        a = input().split()\n",
    "        if a[0] =='insert':\n",
    "            eval(\"b.{}({},{})\".format(a[0],a[1],a[2]))\n",
    "        elif a[0] =='remove' or a[0]=='append':\n",
    "             eval(\"b.{}({})\".format(a[0],a[1]))\n",
    "        elif a[0]=='print':\n",
    "            print(b)\n",
    "        else:\n",
    "            eval(\"b.{}()\".format(a[0]))"
   ]
  },
  {
   "cell_type": "code",
   "execution_count": null,
   "metadata": {},
   "outputs": [],
   "source": [
    "#Tuples\n",
    "if __name__ == '__main__':\n",
    "    n = int(input())\n",
    "    integer_list = map(int, input().split())\n",
    "    b=tuple(integer_list)\n",
    "    print(hash(b))"
   ]
  },
  {
   "cell_type": "code",
   "execution_count": null,
   "metadata": {},
   "outputs": [],
   "source": [
    "#List comprehensions\n",
    "if __name__ == '__main__':\n",
    "    x = int(input())\n",
    "    y = int(input())\n",
    "    z = int(input())\n",
    "    n = int(input())\n",
    "    d=[]\n",
    "    # X = [i for i in range(x+1)]\n",
    "    # Y = [i for i in range(y+1)]\n",
    "    # Z = [i for i in range(z+1)]\n",
    "    # for a in range(len(X)):\n",
    "    #     for b in range(len(Y)):\n",
    "    #         for c in range(len(Z)):\n",
    "    #             if a+b+c!=n:\n",
    "    #                 d.append([a,b,c])\n",
    "    d=[[a,b,c] for a in range(x+1) for b in range(y+1) for c in range(z+1) if a+b+c!=n]\n",
    "    print(d)"
   ]
  },
  {
   "cell_type": "markdown",
   "metadata": {},
   "source": [
    "# Strings"
   ]
  },
  {
   "cell_type": "code",
   "execution_count": null,
   "metadata": {},
   "outputs": [],
   "source": [
    "#sWAP cASE\n",
    "def swap_case(s):\n",
    "    b=''\n",
    "    for i in range(len(s)):\n",
    "        if s[i].lower()==s[i]:\n",
    "            b+=(s[i].upper())\n",
    "        else:\n",
    "            b+=(s[i].lower())   \n",
    "    return b"
   ]
  },
  {
   "cell_type": "code",
   "execution_count": null,
   "metadata": {},
   "outputs": [],
   "source": [
    "#What's Your Name?\n",
    "def print_full_name(a, b):\n",
    "    print(\"Hello {} {}! You just delved into python.\".format(a,b))\n",
    "\n",
    "if __name__ == '__main__':\n",
    "    first_name = input()\n",
    "    last_name = input()\n",
    "    print_full_name(first_name, last_name)"
   ]
  },
  {
   "cell_type": "code",
   "execution_count": null,
   "metadata": {},
   "outputs": [],
   "source": [
    "#String Split and Join\n",
    "def split_and_join(line):\n",
    "    line=line.split(\" \")\n",
    "    line= \"-\".join(line)\n",
    "    return line\n",
    "if __name__ == '__main__':\n",
    "    line = input()\n",
    "    result = split_and_join(line)\n",
    "    print(result)"
   ]
  },
  {
   "cell_type": "code",
   "execution_count": null,
   "metadata": {},
   "outputs": [],
   "source": [
    "#Mutations\n",
    "def mutate_string(string, position, character):\n",
    "    a= list(string)\n",
    "    a[position] = character\n",
    "    answer = ''.join(a)\n",
    "    return answer\n",
    "\n",
    "if __name__ == '__main__':\n",
    "    s = input()\n",
    "    i, c = input().split()\n",
    "    s_new = mutate_string(s, int(i), c)\n",
    "    print(s_new)"
   ]
  },
  {
   "cell_type": "code",
   "execution_count": null,
   "metadata": {},
   "outputs": [],
   "source": [
    "#Find a string\n",
    "def count_substring(string, sub_string):\n",
    "    a=0\n",
    "    for i in range(len(string)):\n",
    "        if sub_string==string[i:i+len(sub_string)]:\n",
    "            a+=1\n",
    "    return a\n",
    "\n",
    "if __name__ == '__main__':\n",
    "    string = input().strip()\n",
    "    sub_string = input().strip()\n",
    "    \n",
    "    count = count_substring(string, sub_string)\n",
    "    print(count)"
   ]
  },
  {
   "cell_type": "code",
   "execution_count": null,
   "metadata": {},
   "outputs": [],
   "source": [
    "#String Validators\n",
    "if __name__ == '__main__':\n",
    "    s = input()\n",
    "    q=False\n",
    "    w=False\n",
    "    e=False\n",
    "    d=False\n",
    "    t=False\n",
    "    for i in s:\n",
    "        if i.isalnum():\n",
    "            q=True\n",
    "        if i.isalpha():\n",
    "            w=True\n",
    "        if i.isdigit():\n",
    "            e=True\n",
    "        if i.islower():\n",
    "            d=True\n",
    "        if i.isupper():\n",
    "            t=True\n",
    "    print(q)\n",
    "    print(w)\n",
    "    print(e)\n",
    "    print(d)\n",
    "    print(t)\n",
    "    "
   ]
  },
  {
   "cell_type": "code",
   "execution_count": null,
   "metadata": {},
   "outputs": [],
   "source": [
    "#Text Wrap\n",
    "import textwrap\n",
    "\n",
    "def wrap(string, max_width):\n",
    "    a=''\n",
    "    for i in range(0,len(string),max_width):\n",
    "        a+=string[i:i+max_width]\n",
    "        a+='\\n'\n",
    "    return a\n",
    "\n",
    "if __name__ == '__main__':\n",
    "    string, max_width = input(), int(input())\n",
    "    result = wrap(string, max_width)\n",
    "    print(result)"
   ]
  },
  {
   "cell_type": "code",
   "execution_count": null,
   "metadata": {},
   "outputs": [],
   "source": [
    "#Text Alignment\n",
    "\n",
    "#Replace all ______ with rjust, ljust or center. \n",
    "thickness = int(input()) #This must be an odd number\n",
    "c = 'H'\n",
    "\n",
    "#Top Cone\n",
    "for i in range(thickness):\n",
    "    print((c*i).rjust(thickness-1)+c+(c*i).ljust(thickness-1))\n",
    "\n",
    "#Top Pillars\n",
    "for i in range(thickness+1):\n",
    "    print((c*thickness).center(thickness*2)+(c*thickness).center(thickness*6))\n",
    "\n",
    "#Middle Belt\n",
    "for i in range((thickness+1)//2):\n",
    "    print((c*thickness*5).center(thickness*6))    \n",
    "\n",
    "#Bottom Pillars\n",
    "for i in range(thickness+1):\n",
    "    print((c*thickness).center(thickness*2)+(c*thickness).center(thickness*6))    \n",
    "\n",
    "#Bottom Cone\n",
    "for i in range(thickness):\n",
    "    print(((c*(thickness-i-1)).rjust(thickness)+c+(c*(thickness-i-1)).ljust(thickness)).rjust(thickness*6))"
   ]
  },
  {
   "cell_type": "code",
   "execution_count": null,
   "metadata": {},
   "outputs": [],
   "source": [
    "#String Formatting\n",
    "def print_formatted(number):\n",
    "    width = len(\"{0:b}\".format(number))\n",
    "    for i in range(1,number+1):\n",
    "        dec= '{0:d}'.format(i)\n",
    "        oc='{0:o}'.format(i)\n",
    "        hexa = '{0:X}'.format(i)\n",
    "        bina = '{0:b}'.format(i)\n",
    "        print(str(dec).rjust(width)+' '+str(oc).rjust(width)+' '+str(hexa).rjust(width)+' '+str(bina).rjust(width))\n",
    "if __name__ == '__main__':\n",
    "    n = int(input())\n",
    "    print_formatted(n)"
   ]
  },
  {
   "cell_type": "code",
   "execution_count": null,
   "metadata": {},
   "outputs": [],
   "source": [
    "#Capitalize!\n",
    "#!/bin/python3\n",
    "\n",
    "import math\n",
    "import os\n",
    "import random\n",
    "import re\n",
    "import sys\n",
    "\n",
    "# Complete the solve function below.\n",
    "def solve(s):\n",
    "    b=list(s)\n",
    "    for i in range(len(b)):\n",
    "        if b[i]==' ':\n",
    "            try:\n",
    "                b[i+1]=b[i+1].upper()\n",
    "            except:\n",
    "                pass\n",
    "    try:\n",
    "        b[0]=b[0].upper()\n",
    "    except:\n",
    "        pass\n",
    "    return ''.join(b)\n",
    "\n",
    "if __name__ == '__main__':\n",
    "    fptr = open(os.environ['OUTPUT_PATH'], 'w')\n",
    "\n",
    "    s = input()\n",
    "\n",
    "    result = solve(s)\n",
    "\n",
    "    fptr.write(result + '\\n')\n",
    "\n",
    "    fptr.close()"
   ]
  },
  {
   "cell_type": "code",
   "execution_count": null,
   "metadata": {},
   "outputs": [],
   "source": [
    "#The Minion Game\n",
    "def minion_game(string):\n",
    "    player1=0\n",
    "    player2=0\n",
    "\n",
    "    vowels ='aeuoiAEUIO'\n",
    "\n",
    "    for i in range(len(string)):\n",
    "        if string[i] in vowels:\n",
    "            player2+=len(string)-i\n",
    "        else:\n",
    "            player1+=len(string)-i\n",
    "    if player1>player2:\n",
    "        print('Stuart {}'.format(player1))\n",
    "    elif player1==player2:\n",
    "        print('Draw')\n",
    "    else:\n",
    "        print('Kevin {}'.format(player2))\n",
    "\n",
    "if __name__ == '__main__':\n",
    "    s = input()\n",
    "    minion_game(s)"
   ]
  },
  {
   "cell_type": "code",
   "execution_count": null,
   "metadata": {},
   "outputs": [],
   "source": [
    "#Merge the Tools!\n",
    "def merge_the_tools(string, k):\n",
    "    for i in range(0,len(string),k):\n",
    "        a=string[i:i+k]\n",
    "        a=\"\".join(list(dict.fromkeys(list(a))))\n",
    "        print(a)\n",
    "\n",
    "if __name__ == '__main__':\n",
    "    string, k = input(), int(input())\n",
    "    merge_the_tools(string, k)"
   ]
  },
  {
   "cell_type": "code",
   "execution_count": null,
   "metadata": {},
   "outputs": [],
   "source": [
    "#Alphabet Rangoli\n",
    "\n"
   ]
  },
  {
   "cell_type": "code",
   "execution_count": null,
   "metadata": {},
   "outputs": [],
   "source": [
    "#Designer Door Mat\n",
    "\n"
   ]
  },
  {
   "cell_type": "markdown",
   "metadata": {},
   "source": [
    "# Sets"
   ]
  },
  {
   "cell_type": "code",
   "execution_count": null,
   "metadata": {},
   "outputs": [],
   "source": [
    "#Introduction to Sets\n",
    "def average(array):\n",
    "    a=set(array)\n",
    "    avg = sum(a)/len(a)\n",
    "    return avg\n",
    "\n",
    "if __name__ == '__main__':\n",
    "    n = int(input())\n",
    "    arr = list(map(int, input().split()))\n",
    "    result = average(arr)\n",
    "    print(result)"
   ]
  },
  {
   "cell_type": "code",
   "execution_count": null,
   "metadata": {},
   "outputs": [],
   "source": [
    "#No Idea!\n",
    "score=0\n",
    "n,m = list(map(int, input().split()))\n",
    "array= list(map(int, input().split()))\n",
    "A=set(map(int, input().split()))\n",
    "B=set(map(int, input().split()))\n",
    "for i in range(n):\n",
    "    if array[i] in A:\n",
    "        score+=1\n",
    "    elif array[i] in B:\n",
    "        score-=1\n",
    "print(score)"
   ]
  },
  {
   "cell_type": "code",
   "execution_count": null,
   "metadata": {},
   "outputs": [],
   "source": [
    "#Symmetric Difference\n",
    "array= list(map(int, input().split()))\n",
    "A=set(map(int, input().split()))\n",
    "array= list(map(int, input().split()))\n",
    "B=set(map(int, input().split()))\n",
    "c = set(A.difference(B))\n",
    "d= set(B.difference(A))\n",
    "e=sorted(c.union(d))\n",
    "for i in e:\n",
    "    print(i)"
   ]
  },
  {
   "cell_type": "code",
   "execution_count": null,
   "metadata": {},
   "outputs": [],
   "source": [
    "#Set .add()\n",
    "b=set()\n",
    "n=int(input())\n",
    "for i in range(n):\n",
    "    a = input()\n",
    "    b.add(a)\n",
    "print(len(b))"
   ]
  },
  {
   "cell_type": "code",
   "execution_count": null,
   "metadata": {},
   "outputs": [],
   "source": [
    "#Set .discard(), .remove() & .pop()\n",
    "n=int(input())\n",
    "s = set(map(int, input().split()))\n",
    "a=int(input())\n",
    "for i in range(a):\n",
    "    b=input().strip().split(' ')\n",
    "    if len(b)==2:\n",
    "        eval(\"s.{}({})\".format(b[0],b[1]))\n",
    "    elif len(b)==1:\n",
    "        eval(\"s.{}()\".format(b[0]))\n",
    "print(sum(s))"
   ]
  },
  {
   "cell_type": "code",
   "execution_count": null,
   "metadata": {},
   "outputs": [],
   "source": [
    "#Set .union() Operation\n",
    "a=int(input())\n",
    "b = set(map(int, input().split()))\n",
    "c=int(input())\n",
    "d = set(map(int, input().split()))\n",
    "print(len(b.union(d)))"
   ]
  },
  {
   "cell_type": "code",
   "execution_count": null,
   "metadata": {},
   "outputs": [],
   "source": [
    "#Set .intersection() Operation\n",
    "a=int(input())\n",
    "b = set(map(int, input().split()))\n",
    "c=int(input())\n",
    "d = set(map(int, input().split()))\n",
    "print(len(b.intersection(d)))"
   ]
  },
  {
   "cell_type": "code",
   "execution_count": null,
   "metadata": {},
   "outputs": [],
   "source": [
    "#Set .difference() Operation\n",
    "a=int(input())\n",
    "b = set(map(int, input().split()))\n",
    "c=int(input())\n",
    "d = set(map(int, input().split()))\n",
    "print(len(b.difference(d)))"
   ]
  },
  {
   "cell_type": "code",
   "execution_count": null,
   "metadata": {},
   "outputs": [],
   "source": [
    "#Set .symmetric_difference() Operation\n",
    "a=int(input())\n",
    "b = set(map(int, input().split()))\n",
    "c=int(input())\n",
    "d = set(map(int, input().split()))\n",
    "print(len(b.symmetric_difference(d)))"
   ]
  },
  {
   "cell_type": "code",
   "execution_count": null,
   "metadata": {},
   "outputs": [],
   "source": [
    "#Set Mutations\n",
    "a=int(input())\n",
    "b = set(map(int, input().split()))\n",
    "c=int(input())\n",
    "for i in range(c):\n",
    "    d=input().strip().split(' ')\n",
    "    e = set(map(int, input().split()))\n",
    "    eval(\"b.{}({})\".format(d[0],e))\n",
    "print(sum(b))"
   ]
  },
  {
   "cell_type": "code",
   "execution_count": null,
   "metadata": {},
   "outputs": [],
   "source": [
    "#Check Subset\n",
    "n=int(input())\n",
    "for i in range(n):\n",
    "    a=int(input())\n",
    "    b=set(map(int, input().split()))\n",
    "    c=int(input())\n",
    "    d=set(map(int, input().split()))\n",
    "    e= b.difference(d)\n",
    "    if len(e)!=0:\n",
    "        print(False)\n",
    "    else:\n",
    "        print(True)"
   ]
  },
  {
   "cell_type": "code",
   "execution_count": null,
   "metadata": {},
   "outputs": [],
   "source": [
    "#Check Strict Superset\n",
    "a=set(map(int, input().split()))\n",
    "b=int(input())\n",
    "n=0\n",
    "for i in range(b):\n",
    "    c=set(map(int, input().split()))\n",
    "    if a.issuperset(c):\n",
    "        n+=1\n",
    "if n==b:\n",
    "    print(True)\n",
    "else:\n",
    "    print(False)"
   ]
  },
  {
   "cell_type": "code",
   "execution_count": null,
   "metadata": {},
   "outputs": [],
   "source": [
    "#The Captain's Room\n",
    "n=int(input())\n",
    "a=list(map(int, input().split()))\n",
    "b = set(a)\n",
    "d={}\n",
    "for i in a:\n",
    "    if i in d:\n",
    "        d[i]+=1\n",
    "    else:\n",
    "        d[i]=1\n",
    "for key, value in d.items(): \n",
    "    if value == 1:\n",
    "        print(key)"
   ]
  },
  {
   "cell_type": "markdown",
   "metadata": {},
   "source": [
    "# Collections"
   ]
  },
  {
   "cell_type": "code",
   "execution_count": null,
   "metadata": {},
   "outputs": [],
   "source": [
    "#collections.Counter()\n",
    "a=int(input())\n",
    "b=list(map(int, input().split()))\n",
    "n=int(input())\n",
    "money=0\n",
    "for i in range(n):\n",
    "    size,amount=map(int, input().split())\n",
    "    if size in b:\n",
    "        money+=amount\n",
    "        b[b.index(size)] =''\n",
    "print(money)"
   ]
  },
  {
   "cell_type": "code",
   "execution_count": null,
   "metadata": {},
   "outputs": [],
   "source": [
    "#Collections.namedtuple()\n",
    "from collections import namedtuple\n",
    "n=int(input())\n",
    "col_names=list(map(str, input().split()))\n",
    "index = col_names.index('MARKS')\n",
    "summ=0\n",
    "for i in  range(n):\n",
    "    xyz = input().split()\n",
    "    summ+=int(xyz[index])\n",
    "summ=summ/n\n",
    "print(summ)"
   ]
  },
  {
   "cell_type": "code",
   "execution_count": null,
   "metadata": {},
   "outputs": [],
   "source": [
    "#Collections.OrderedDict()\n",
    "from collections import OrderedDict\n",
    "a=OrderedDict()\n",
    "n=int(input())\n",
    "for i in range(n):\n",
    "    b=input().strip().split(' ')\n",
    "    b[:len(b)-1] = [' '.join(b[:len(b)-1])]\n",
    "    if a.get(b[0]):\n",
    "        a[b[0]]+=int(b[1])\n",
    "    else:\n",
    "        a[b[0]]=int(b[1])\n",
    "\n",
    "for i,j in a.items():\n",
    "    print(i,j)"
   ]
  },
  {
   "cell_type": "code",
   "execution_count": null,
   "metadata": {},
   "outputs": [],
   "source": [
    "#Collections.deque()\n",
    "from collections import deque\n",
    "d = deque()\n",
    "a=int(input())\n",
    "for i in range(a):\n",
    "    b=input().split()\n",
    "    if len(b)==2:\n",
    "        eval(\"d.{}({})\".format(b[0],b[1]))\n",
    "    elif len(b)==1:\n",
    "        eval(\"d.{}()\".format(b[0]))\n",
    "print (' '.join(map(str, d)))"
   ]
  },
  {
   "cell_type": "code",
   "execution_count": null,
   "metadata": {},
   "outputs": [],
   "source": [
    "#Word Order\n",
    "from collections import OrderedDict\n",
    "a= OrderedDict()\n",
    "n=int(input())\n",
    "for i in range(n):\n",
    "    b=input()\n",
    "    if b not in a:\n",
    "        a[b]=1\n",
    "    else:\n",
    "        a[b]+=1\n",
    "print(len(a))\n",
    "print(' '.join(map(str, a.values())))"
   ]
  },
  {
   "cell_type": "code",
   "execution_count": null,
   "metadata": {},
   "outputs": [],
   "source": [
    "#DefaultDict Tutorial\n",
    "from collections import defaultdict\n",
    "d = defaultdict(list)\n",
    "n,m = list(map(int, input().split()))\n",
    "A=[]\n",
    "B=[]\n",
    "for i in range(n):\n",
    "    d[i]=list(map(str, input().split()))\n",
    "    A.append(a)\n",
    "for i in range(m):\n",
    "    b=list(map(str, input().split()))\n",
    "    B.append(a)"
   ]
  },
  {
   "cell_type": "code",
   "execution_count": null,
   "metadata": {},
   "outputs": [],
   "source": [
    "#Piling Up!\n",
    "n=int(input())\n",
    "for i in range(n):\n",
    "    a=int(input())\n",
    "    b= list(map(int, input().split()))\n",
    "    if b[0]==max(b) or b[-1]==max(b):\n",
    "        print('Yes')\n",
    "    else:\n",
    "        print('No')"
   ]
  },
  {
   "cell_type": "code",
   "execution_count": null,
   "metadata": {},
   "outputs": [],
   "source": [
    "#Company Logo\n",
    "#!/bin/python3\n",
    "\n",
    "import math\n",
    "import os\n",
    "import random\n",
    "import re\n",
    "import sys\n",
    "from collections import Counter\n",
    "from collections import OrderedDict\n",
    "\n",
    "if __name__ == '__main__':\n",
    "    s = input()\n",
    "    \n",
    "    a=OrderedDict()\n",
    "    for i in s:\n",
    "        if i not in a:\n",
    "            a[i]=1\n",
    "        else:\n",
    "            a[i]+=1\n",
    "    z=0\n",
    "    for i in sorted(a, key=a.get, reverse=True):\n",
    "        z+=1\n",
    "        if z==4:\n",
    "            break\n",
    "        print(i, a[i])"
   ]
  },
  {
   "cell_type": "markdown",
   "metadata": {},
   "source": [
    "# Date and Time"
   ]
  },
  {
   "cell_type": "code",
   "execution_count": null,
   "metadata": {},
   "outputs": [],
   "source": [
    "#Calendar Module\n",
    "import calendar\n",
    "a=list(map(int, input().split()))\n",
    "day_week=calendar.weekday(a[2],a[0],a[1])\n",
    "name = calendar.day_name[day_week]\n",
    "print(name.upper())"
   ]
  },
  {
   "cell_type": "code",
   "execution_count": null,
   "metadata": {},
   "outputs": [],
   "source": [
    "#Time Delta\n"
   ]
  },
  {
   "cell_type": "markdown",
   "metadata": {},
   "source": [
    "# Exceptions"
   ]
  },
  {
   "cell_type": "code",
   "execution_count": null,
   "metadata": {},
   "outputs": [],
   "source": [
    "#Exceptions\n",
    "n = int(input())\n",
    "for i in range(n):\n",
    "    b=list(input().split())\n",
    "    try:\n",
    "        print(int(int(b[0]) / int(b[1])))\n",
    "    except ZeroDivisionError as e:\n",
    "        print (\"Error Code: integer division or modulo by zero\")\n",
    "    except ValueError as e:\n",
    "        print (\"Error Code: \" + str(e))"
   ]
  },
  {
   "cell_type": "markdown",
   "metadata": {},
   "source": [
    "# Built-ins"
   ]
  },
  {
   "cell_type": "code",
   "execution_count": null,
   "metadata": {},
   "outputs": [],
   "source": [
    "#Zipped!\n",
    "a,n=list(map(int, input().split()))\n",
    "c=[]\n",
    "for i in range(n):\n",
    "    b=list(map(float, input().split()))\n",
    "    c.append(b)\n",
    "for i in zip(*c):\n",
    "    print(sum(i)/len(i))"
   ]
  },
  {
   "cell_type": "code",
   "execution_count": null,
   "metadata": {},
   "outputs": [],
   "source": [
    "#Athlete Sort\n",
    "#!/bin/python3\n",
    "\n",
    "import math\n",
    "import os\n",
    "import random\n",
    "import re\n",
    "import sys\n",
    "\n",
    "\n",
    "\n",
    "if __name__ == '__main__':\n",
    "    nm = input().split()\n",
    "\n",
    "    n = int(nm[0])\n",
    "\n",
    "    m = int(nm[1])\n",
    "\n",
    "    arr = []\n",
    "\n",
    "    for _ in range(n):\n",
    "        arr.append(list(map(int, input().rstrip().split())))\n",
    "\n",
    "    k = int(input())\n",
    "    arr.sort(key=lambda x: x[k])\n",
    "    for m in arr:\n",
    "        print(' '.join(map(str, m)))"
   ]
  },
  {
   "cell_type": "code",
   "execution_count": null,
   "metadata": {},
   "outputs": [],
   "source": [
    "#ginortS\n",
    "a=input()\n",
    "\n",
    "b=sorted(a, key =lambda i:( i.isdigit() and int(i)%2==0 , i.isdigit(),i.isupper(),i.islower(),i))\n",
    "print(\"\".join(b))"
   ]
  },
  {
   "cell_type": "markdown",
   "metadata": {},
   "source": [
    "# Python Functionals"
   ]
  },
  {
   "cell_type": "code",
   "execution_count": null,
   "metadata": {},
   "outputs": [],
   "source": [
    "#Map and Lambda Function\n",
    "cube = lambda x: x**3 # complete the lambda function \n",
    "\n",
    "def fibonacci(n):\n",
    "    #Map and Lambda Function\n",
    "    a= [0, 1, 1, 2, 3, 5, 8, 13, 21, 34, 55, 89, 144, 233, 377]\n",
    "    return a[:n]\n",
    "\n",
    "if __name__ == '__main__':\n",
    "    n = int(input())\n",
    "    print(list(map(cube, fibonacci(n))))"
   ]
  },
  {
   "cell_type": "markdown",
   "metadata": {},
   "source": [
    "# Regex and Parsing"
   ]
  },
  {
   "cell_type": "code",
   "execution_count": null,
   "metadata": {},
   "outputs": [],
   "source": [
    "#Detect Floating Point Number\n",
    "a=int(input())\n",
    "for i in range(a):\n",
    "    arr = input()\n",
    "    try:\n",
    "        int(arr)\n",
    "        print(False)\n",
    "    except:\n",
    "        try:\n",
    "            float(arr)\n",
    "            print(True)\n",
    "        except:\n",
    "            print(False)"
   ]
  },
  {
   "cell_type": "code",
   "execution_count": null,
   "metadata": {},
   "outputs": [],
   "source": [
    "#Re.split()\n",
    "regex_pattern = r\"\\W+\"\t# Do not delete 'r'.\n",
    "\n",
    "import re\n",
    "print(\"\\n\".join(re.split(regex_pattern, input())))"
   ]
  },
  {
   "cell_type": "code",
   "execution_count": null,
   "metadata": {},
   "outputs": [],
   "source": [
    "#Group(), Groups() & Groupdict()\n",
    "import re\n",
    "a=input()\n",
    "b= re.search(r\"([a-z0-9])\\1+\", a)\n",
    "if b:\n",
    "    print(b.group(1))\n",
    "else:\n",
    "    print(-1)"
   ]
  },
  {
   "cell_type": "code",
   "execution_count": null,
   "metadata": {},
   "outputs": [],
   "source": [
    "#Re.findall() & Re.finditer()\n",
    "import re\n",
    "vowels = 'AEIOUaeiou'\n",
    "cons =\"qwrtypsdfghjklzxcvbnmQWRTYPSDFGHJKLZXCVBNM\"\n",
    "a= input()\n",
    "match = re.findall('(?<=[' + cons + '])([' + vowels + ']{2,})[' + cons + ']', a)\n",
    "if match:\n",
    "    for i in match:\n",
    "        print(i)\n",
    "else:\n",
    "    print(-1)"
   ]
  },
  {
   "cell_type": "code",
   "execution_count": null,
   "metadata": {},
   "outputs": [],
   "source": [
    "#Re.start() & Re.end()\n",
    "import re\n",
    "a=input()\n",
    "b = re.compile(input())\n",
    "c = re.search(b,a)\n",
    "if c:\n",
    "    while c:\n",
    "        print(tuple([c.start(),c.end()-1]))\n",
    "        c = b.search(a,c.start() + 1)\n",
    "else:\n",
    "    print((-1,-1))"
   ]
  },
  {
   "cell_type": "code",
   "execution_count": null,
   "metadata": {},
   "outputs": [],
   "source": [
    "#Regex Substitution\n",
    "import re\n",
    "pattern = r'(?<= )((&&)|(\\|\\|))(?= )'\n",
    "n=int(input())\n",
    "b=[]\n",
    "for i in range(n):\n",
    "    a = input()\n",
    "    b.append(a)\n",
    "a = re.sub(r\"(?<=\\s)&&\\s\", \"and \", a)\n",
    "a = re.sub(r\"(?<=\\s)\\||\\s\", \"or \", a)"
   ]
  },
  {
   "cell_type": "code",
   "execution_count": null,
   "metadata": {},
   "outputs": [],
   "source": [
    "#Validating Roman Numerals\n",
    "regex_pattern = r\"(^(?=[MDCLXVI])(M{0,3})(C[MD]|D?C{0,3})(X[CL]|L?X{0,3})(I[XV]|V?I{0,3})$)\"\n",
    "\n",
    "import re\n",
    "print(str(bool(re.match(regex_pattern, input()))))"
   ]
  },
  {
   "cell_type": "code",
   "execution_count": null,
   "metadata": {},
   "outputs": [],
   "source": [
    "#Validating phone numbers\n",
    "import re\n",
    "a=int(input())\n",
    "for i in range(a):\n",
    "    arr = input()\n",
    "    if re.match(r'[7-9][0-9]{9}', arr) and len(arr) == 10:\n",
    "        print('YES')\n",
    "    else:\n",
    "        print('NO')"
   ]
  },
  {
   "cell_type": "code",
   "execution_count": null,
   "metadata": {},
   "outputs": [],
   "source": [
    "#Validating and Parsing Email Addresses\n",
    "import re\n",
    "import email.utils\n",
    "n=int(input())\n",
    "for i in range(n):\n",
    "    a=input()\n",
    "    a=email.utils.parseaddr(a)\n",
    "    if re.match(r'^[a-zA-Z]{1,}[a-zA-Z-\\.\\_0-9]*@[a-zA-Z]+\\.[a-zA-Z]{1,3}$',a[1]):\n",
    "        print (email.utils.formataddr(a))"
   ]
  },
  {
   "cell_type": "code",
   "execution_count": null,
   "metadata": {},
   "outputs": [],
   "source": [
    "#Hex Color Code\n",
    "import re\n",
    "n=int(input())\n",
    "for i in range(n):\n",
    "    a=input()\n",
    "    pattern = r'#[A-Fa-f0-9]{3,6}[^\\s]'\n",
    "    if re.findall(pattern,a):\n",
    "        for i in re.findall(pattern,a):\n",
    "            print(i[:-1])"
   ]
  },
  {
   "cell_type": "code",
   "execution_count": null,
   "metadata": {},
   "outputs": [],
   "source": [
    "#HTML Parser - Part 1\n",
    "import re\n",
    "n=int(input())\n",
    "for i in range(n):\n",
    "    a=input()"
   ]
  },
  {
   "cell_type": "markdown",
   "metadata": {},
   "source": [
    "# XML"
   ]
  },
  {
   "cell_type": "code",
   "execution_count": null,
   "metadata": {},
   "outputs": [],
   "source": [
    "#XML 1 - Find the Score\n"
   ]
  },
  {
   "cell_type": "code",
   "execution_count": null,
   "metadata": {},
   "outputs": [],
   "source": [
    "#XML2 - Find the Maximum Depth\n"
   ]
  },
  {
   "cell_type": "markdown",
   "metadata": {},
   "source": [
    "# Closures and Decorations"
   ]
  },
  {
   "cell_type": "code",
   "execution_count": null,
   "metadata": {},
   "outputs": [],
   "source": [
    "#Standardize Mobile Number Using Decorators\n",
    "def wrapper(f):\n",
    "    def fun(l):\n",
    "        a=[]\n",
    "        for i in l:\n",
    "            a.append('+91' +' '+ i[-10: -5]+' ' +i[-5:])\n",
    "        return f(a)\n",
    "    return fun\n",
    "\n",
    "@wrapper\n",
    "def sort_phone(l):\n",
    "    print(*sorted(l), sep='\\n')\n",
    "\n",
    "if __name__ == '__main__':\n",
    "    l = [input() for _ in range(int(input()))]\n",
    "    sort_phone(l) "
   ]
  },
  {
   "cell_type": "code",
   "execution_count": null,
   "metadata": {},
   "outputs": [],
   "source": [
    "#Decorators 2 - Name Directory\n",
    "import operator\n",
    "\n",
    "def person_lister(f):\n",
    "    def inner(people):\n",
    "        people.sort(key=lambda i: int(i[2]))\n",
    "        x = [f(i) for i in people]\n",
    "        return x\n",
    "    return inner\n",
    "\n",
    "@person_lister\n",
    "def name_format(person):\n",
    "    return (\"Mr. \" if person[3] == \"M\" else \"Ms. \") + person[0] + \" \" + person[1]\n",
    "\n",
    "if __name__ == '__main__':\n",
    "    people = [input().split() for i in range(int(input()))]\n",
    "    print(*name_format(people), sep='\\n')"
   ]
  },
  {
   "cell_type": "markdown",
   "metadata": {},
   "source": [
    "# Numpy"
   ]
  },
  {
   "cell_type": "code",
   "execution_count": null,
   "metadata": {},
   "outputs": [],
   "source": [
    "#Arrays\n",
    "import numpy\n",
    "\n",
    "def arrays(arr):\n",
    "    arr =numpy.array(arr,float)\n",
    "    return arr[::-1]\n",
    "arr = input().strip().split(' ')\n",
    "result = arrays(arr)\n",
    "print(result)"
   ]
  },
  {
   "cell_type": "code",
   "execution_count": null,
   "metadata": {},
   "outputs": [],
   "source": [
    "#Shape and Reshape\n",
    "import numpy\n",
    "arr = input().strip().split(' ')\n",
    "for i in range(len(arr)):\n",
    "    arr[i]=int(arr[i])\n",
    "arr=numpy.reshape(arr,(3,3))\n",
    "\n",
    "print (arr)"
   ]
  },
  {
   "cell_type": "code",
   "execution_count": null,
   "metadata": {},
   "outputs": [],
   "source": [
    "#Transpose and Flatten\n",
    "import numpy\n",
    "b=[]\n",
    "arr = input().strip().split(' ')\n",
    "for i in range(len(arr)):\n",
    "    arr[i]=int(arr[i])\n",
    "for i in range(arr[0]):\n",
    "    a = input().strip().split(' ')\n",
    "    for i in range(len(a)):\n",
    "        a[i]=int(a[i])\n",
    "    b.append(a)\n",
    "b=numpy.array(b)\n",
    "\n",
    "print(b.transpose())\n",
    "print(b.flatten())"
   ]
  },
  {
   "cell_type": "code",
   "execution_count": null,
   "metadata": {},
   "outputs": [],
   "source": [
    "#Concatenate\n",
    "import numpy\n",
    "b=[]\n",
    "arr = input().strip().split(' ')\n",
    "for i in range(len(arr)):\n",
    "    arr[i]=int(arr[i])\n",
    "for i in range(arr[0]+arr[1]):\n",
    "    a = input().strip().split(' ')\n",
    "    for i in range(len(a)):\n",
    "        a[i]=int(a[i])\n",
    "    b.append(a)\n",
    "b=numpy.array(b)\n",
    "print(b)"
   ]
  },
  {
   "cell_type": "code",
   "execution_count": null,
   "metadata": {},
   "outputs": [],
   "source": [
    "#Zeros and Ones\n",
    "import numpy\n",
    "arr = input().strip().split(' ')\n",
    "for i in range(len(arr)):\n",
    "    arr[i]=int(arr[i])\n",
    "a=[]\n",
    "b=[]\n",
    "if len(arr)==3:\n",
    "    for i in range(arr[0]):\n",
    "        a.append(numpy.zeros((arr[1],arr[2]),dtype= int))\n",
    "\n",
    "    a=numpy.array(a)\n",
    "\n",
    "    print(a)\n",
    "\n",
    "    for i in range(arr[0]):\n",
    "        b.append(numpy.ones((arr[1],arr[2]),dtype= int))\n",
    "    b=numpy.array(b)\n",
    "\n",
    "    print(b)\n",
    "elif len(arr)==2:\n",
    "    for i in range(arr[0]):\n",
    "        a.append(numpy.zeros((arr[1]),dtype= int))\n",
    "\n",
    "    a=numpy.array(a)\n",
    "\n",
    "    print(a)\n",
    "\n",
    "    for i in range(arr[0]):\n",
    "        b.append(numpy.ones((arr[1]),dtype= int))\n",
    "    b=numpy.array(b)\n",
    "\n",
    "    print(b)\n",
    "if len(arr)==4:\n",
    "    for i in range(arr[0]):\n",
    "        a.append(numpy.zeros((arr[1],arr[2],arr[3]),dtype= int))\n",
    "\n",
    "    a=numpy.array(a)\n",
    "\n",
    "    print(a)\n",
    "\n",
    "    for i in range(arr[0]):\n",
    "        b.append(numpy.ones((arr[1],arr[2],arr[3]),dtype= int))\n",
    "    b=numpy.array(b)\n",
    "\n",
    "    print(b)"
   ]
  },
  {
   "cell_type": "code",
   "execution_count": null,
   "metadata": {},
   "outputs": [],
   "source": [
    "#Eye and Identity\n",
    "import numpy\n",
    "numpy.set_printoptions(legacy='1.13')\n",
    "arr = input().strip().split(' ')\n",
    "for i in range(len(arr)):\n",
    "    arr[i]=int(arr[i])\n",
    "if arr[0]==arr[1]:\n",
    "    a=numpy.identity(arr[0],dtype=float)\n",
    "else:\n",
    "    a=numpy.eye(arr[0],arr[1],dtype=float)\n",
    "print(a)"
   ]
  },
  {
   "cell_type": "code",
   "execution_count": null,
   "metadata": {},
   "outputs": [],
   "source": [
    "#Array Mathematics\n",
    "import numpy\n",
    "import numpy\n",
    "b=[]\n",
    "c=[]\n",
    "numpy.set_printoptions(legacy = '1.13')\n",
    "arr = input().strip().split(' ')\n",
    "for i in range(len(arr)):\n",
    "    arr[i]=int(arr[i])\n",
    "for i in range(arr[0]):\n",
    "    a = input().strip().split(' ')\n",
    "    for i in range(len(a)):\n",
    "        a[i]=int(a[i])\n",
    "    b.append(a)\n",
    "for i in range(arr[0]):\n",
    "    a = input().strip().split(' ')\n",
    "    for i in range(len(a)):\n",
    "        a[i]=int(a[i])\n",
    "    c.append(a)\n",
    "b=numpy.array(b)\n",
    "c=numpy.array(c)\n",
    "print(numpy.add(b, c))\n",
    "print(numpy.subtract(b,c))\n",
    "print(numpy.multiply(b,c))\n",
    "print(numpy.floor_divide(b,c))\n",
    "print(numpy.mod(b,c) )\n",
    "print(numpy.power(b,c))"
   ]
  },
  {
   "cell_type": "code",
   "execution_count": null,
   "metadata": {},
   "outputs": [],
   "source": [
    "#Floor, Ceil and Rint\n",
    "import numpy\n",
    "numpy.set_printoptions(legacy = '1.13')\n",
    "arr = input().strip().split(' ')\n",
    "for i in range(len(arr)):\n",
    "    arr[i]=float(arr[i])\n",
    "my_array = numpy.array(arr)\n",
    "print (numpy.floor(my_array))\n",
    "print (numpy.ceil(my_array))\n",
    "print (numpy.rint(my_array))"
   ]
  },
  {
   "cell_type": "code",
   "execution_count": null,
   "metadata": {},
   "outputs": [],
   "source": [
    "#Sum and Prod\n",
    "import numpy\n",
    "b=[]\n",
    "arr = input().strip().split(' ')\n",
    "for i in range(len(arr)):\n",
    "    arr[i]=int(arr[i])\n",
    "for i in range(arr[0]):\n",
    "    a = input().strip().split(' ')\n",
    "    for i in range(len(a)):\n",
    "        a[i]=int(a[i])\n",
    "    b.append(a)\n",
    "c=numpy.sum(b, axis = 0)   \n",
    "d=1\n",
    "for i in c:\n",
    "    d*=i\n",
    "print(d)"
   ]
  },
  {
   "cell_type": "code",
   "execution_count": null,
   "metadata": {},
   "outputs": [],
   "source": [
    "#Min and Max\n",
    "import numpy\n",
    "b=[]\n",
    "arr = input().strip().split(' ')\n",
    "for i in range(len(arr)):\n",
    "    arr[i]=int(arr[i])\n",
    "for i in range(arr[0]):\n",
    "    a = input().strip().split(' ')\n",
    "    for i in range(len(a)):\n",
    "        a[i]=int(a[i])\n",
    "    b.append(a)\n",
    "b=numpy.array(b)\n",
    "c=numpy.min(b, axis = 1)  \n",
    "d=numpy.max(c)\n",
    "print(d)"
   ]
  },
  {
   "cell_type": "code",
   "execution_count": null,
   "metadata": {},
   "outputs": [],
   "source": [
    "#Mean, Var, and Std\n",
    "import numpy\n",
    "b=[]\n",
    "numpy.set_printoptions(legacy = '1.13')\n",
    "arr = input().strip().split(' ')\n",
    "for i in range(len(arr)):\n",
    "    arr[i]=int(arr[i])\n",
    "for i in range(arr[0]):\n",
    "    a = input().strip().split(' ')\n",
    "    for i in range(len(a)):\n",
    "        a[i]=int(a[i])\n",
    "    b.append(a)\n",
    "b=numpy.array(b)\n",
    "print (numpy.mean(b, axis = 1)  )\n",
    "print (numpy.var(b, axis = 0) )\n",
    "print (numpy.std(b) )"
   ]
  },
  {
   "cell_type": "code",
   "execution_count": null,
   "metadata": {},
   "outputs": [],
   "source": [
    "#Linear Algebra\n",
    "import numpy\n",
    "b=[]\n",
    "numpy.set_printoptions(legacy = '1.13')\n",
    "arr = input().strip().split(' ')\n",
    "for i in range(len(arr)):\n",
    "    arr[i]=int(arr[i])\n",
    "for i in range(arr[0]):\n",
    "    a = input().strip().split(' ')\n",
    "    for i in range(len(a)):\n",
    "        a[i]=float(a[i])\n",
    "    b.append(a)\n",
    "b=numpy.array(b)\n",
    "print (numpy.linalg.det(b))"
   ]
  },
  {
   "cell_type": "code",
   "execution_count": null,
   "metadata": {},
   "outputs": [],
   "source": [
    "#Dot and Cross\n",
    "import numpy\n",
    "b=[]\n",
    "c=[]\n",
    "numpy.set_printoptions(legacy = '1.13')\n",
    "arr = input().strip().split(' ')\n",
    "for i in range(len(arr)):\n",
    "    arr[i]=int(arr[i])\n",
    "for i in range(arr[0]):\n",
    "    a = input().strip().split(' ')\n",
    "    for i in range(len(a)):\n",
    "        a[i]=int(a[i])\n",
    "    b.append(a)\n",
    "for i in range(arr[0]):\n",
    "    a = input().strip().split(' ')\n",
    "    for i in range(len(a)):\n",
    "        a[i]=int(a[i])\n",
    "    c.append(a)\n",
    "b=numpy.array(b)\n",
    "c=numpy.array(c)\n",
    "d=numpy.dot(b,c)\n",
    "\n",
    "print ( d )"
   ]
  },
  {
   "cell_type": "code",
   "execution_count": null,
   "metadata": {},
   "outputs": [],
   "source": [
    "#Inner and Outer\n",
    "import numpy\n",
    "numpy.set_printoptions(legacy = '1.13')\n",
    "a = input().strip().split(' ')\n",
    "for i in range(len(a)):\n",
    "    a[i]=int(a[i])\n",
    "b = input().strip().split(' ')\n",
    "for i in range(len(b)):\n",
    "    b[i]=int(b[i])\n",
    "b=numpy.array(b)\n",
    "a=numpy.array(a)\n",
    "    \n",
    "print (numpy.inner(a,b) )\n",
    "print (numpy.outer(a,b) )"
   ]
  },
  {
   "cell_type": "code",
   "execution_count": null,
   "metadata": {},
   "outputs": [],
   "source": [
    "#Polynomials\n",
    "import numpy\n",
    "numpy.set_printoptions(legacy = '1.13')\n",
    "a = input().strip().split(' ')\n",
    "b=int(input())\n",
    "for i in range(len(a)):\n",
    "    a[i]=float(a[i])\n",
    "a=numpy.array(a)\n",
    "print (numpy.polyval(a,b))"
   ]
  },
  {
   "cell_type": "markdown",
   "metadata": {},
   "source": [
    "# Problem 2"
   ]
  },
  {
   "cell_type": "code",
   "execution_count": null,
   "metadata": {},
   "outputs": [],
   "source": [
    "#Birthday Cake Candles\n",
    "#!/bin/python3\n",
    "\n",
    "import math\n",
    "import os\n",
    "import random\n",
    "import re\n",
    "import sys\n",
    "\n",
    "#\n",
    "# Complete the 'birthdayCakeCandles' function below.\n",
    "#\n",
    "# The function is expected to return an INTEGER.\n",
    "# The function accepts INTEGER_ARRAY candles as parameter.\n",
    "#\n",
    "\n",
    "def birthdayCakeCandles(candles):\n",
    "    a=max(candles)\n",
    "    return candles.count(a)\n",
    "\n",
    "if __name__ == '__main__':\n",
    "    fptr = open(os.environ['OUTPUT_PATH'], 'w')\n",
    "\n",
    "    candles_count = int(input().strip())\n",
    "\n",
    "    candles = list(map(int, input().rstrip().split()))\n",
    "\n",
    "    result = birthdayCakeCandles(candles)\n",
    "\n",
    "    fptr.write(str(result) + '\\n')\n",
    "\n",
    "    fptr.close()"
   ]
  },
  {
   "cell_type": "code",
   "execution_count": null,
   "metadata": {},
   "outputs": [],
   "source": [
    "#Number Line Jumps\n",
    "#!/bin/python3\n",
    "\n",
    "import math\n",
    "import os\n",
    "import random\n",
    "import re\n",
    "import sys\n",
    "\n",
    "# Complete the kangaroo function below.\n",
    "def kangaroo(x1, v1, x2, v2):\n",
    "    try:\n",
    "        a=int((x2-x1)/(v1-v2))\n",
    "        if a>0 and abs(x1 - x2) % abs(v1 - v2) == 0:\n",
    "            return 'YES'\n",
    "        else:\n",
    "            return 'NO'\n",
    "    except:\n",
    "        return 'NO'\n",
    "\n",
    "if __name__ == '__main__':\n",
    "    fptr = open(os.environ['OUTPUT_PATH'], 'w')\n",
    "\n",
    "    x1V1X2V2 = input().split()\n",
    "\n",
    "    x1 = int(x1V1X2V2[0])\n",
    "\n",
    "    v1 = int(x1V1X2V2[1])\n",
    "\n",
    "    x2 = int(x1V1X2V2[2])\n",
    "\n",
    "    v2 = int(x1V1X2V2[3])\n",
    "\n",
    "    result = kangaroo(x1, v1, x2, v2)\n",
    "\n",
    "    fptr.write(result + '\\n')\n",
    "\n",
    "    fptr.close()"
   ]
  },
  {
   "cell_type": "code",
   "execution_count": null,
   "metadata": {},
   "outputs": [],
   "source": [
    "#Viral Advertising\n",
    "#!/bin/python3\n",
    "\n",
    "import math\n",
    "import os\n",
    "import random\n",
    "import re\n",
    "import sys\n",
    "\n",
    "# Complete the viralAdvertising function below.\n",
    "def viralAdvertising(n):\n",
    "    shared=5\n",
    "    total_like=0\n",
    "    for i in range(n):\n",
    "        like=math.floor(float(shared)/2)\n",
    "        total_like+=like\n",
    "        shared=3*like \n",
    "    return total_like\n",
    "if __name__ == '__main__':\n",
    "    fptr = open(os.environ['OUTPUT_PATH'], 'w')\n",
    "\n",
    "    n = int(input())\n",
    "\n",
    "    result = viralAdvertising(n)\n",
    "\n",
    "    fptr.write(str(result) + '\\n')\n",
    "\n",
    "    fptr.close()"
   ]
  },
  {
   "cell_type": "code",
   "execution_count": null,
   "metadata": {},
   "outputs": [],
   "source": [
    "#Recursive Digit Sum\n",
    "#!/bin/python3\n",
    "\n",
    "import math\n",
    "import os\n",
    "import random\n",
    "import re\n",
    "import sys\n",
    "\n",
    "# Complete the superDigit function below.\n",
    "def superDigit(n, k):\n",
    "    a=n*k\n",
    "    b=list(map(int, a))\n",
    "    while len(b)!=1:\n",
    "        c=0\n",
    "        for i in range(len(b)):\n",
    "            c+=b[i]\n",
    "        c=str(c)\n",
    "        b=list(map(int, c))\n",
    "    return b[0]\n",
    "    \n",
    "\n",
    "if __name__ == '__main__':\n",
    "    fptr = open(os.environ['OUTPUT_PATH'], 'w')\n",
    "\n",
    "    nk = input().split()\n",
    "\n",
    "    n = nk[0]\n",
    "\n",
    "    k = int(nk[1])\n",
    "\n",
    "    result = superDigit(n, k)\n",
    "\n",
    "    fptr.write(str(result) + '\\n')\n",
    "\n",
    "    fptr.close()"
   ]
  },
  {
   "cell_type": "code",
   "execution_count": null,
   "metadata": {},
   "outputs": [],
   "source": [
    "#Insertion Sort - Part 1\n",
    "#!/bin/python3\n",
    "\n",
    "import math\n",
    "import os\n",
    "import random\n",
    "import re\n",
    "import sys\n",
    "\n",
    "# Complete the insertionSort1 function below.\n",
    "def insertionSort1(n, arr):\n",
    "    arr2=arr.copy()\n",
    "    b=arr2[-1]\n",
    "    for i in reversed(range(1,n)):\n",
    "        if i==1 and arr[i-1]>b:\n",
    "            arr[i]=arr[i-1]\n",
    "            print(*arr)\n",
    "            arr[i-1]=b\n",
    "            print(*arr)\n",
    "        elif  arr[i-1]>b:\n",
    "            arr[i]=arr[i-1]\n",
    "            print(*arr)\n",
    "        else:\n",
    "            arr[i]=b\n",
    "            print(*arr)\n",
    "            break\n",
    "        \n",
    "    \n",
    "if __name__ == '__main__':\n",
    "    n = int(input())\n",
    "\n",
    "    arr = list(map(int, input().rstrip().split()))\n",
    "\n",
    "    insertionSort1(n, arr)\n"
   ]
  },
  {
   "cell_type": "code",
   "execution_count": null,
   "metadata": {},
   "outputs": [],
   "source": [
    "#Insertion Sort - Part 2"
   ]
  }
 ],
 "metadata": {
  "kernelspec": {
   "display_name": "Python 3",
   "language": "python",
   "name": "python3"
  },
  "language_info": {
   "codemirror_mode": {
    "name": "ipython",
    "version": 3
   },
   "file_extension": ".py",
   "mimetype": "text/x-python",
   "name": "python",
   "nbconvert_exporter": "python",
   "pygments_lexer": "ipython3",
   "version": "3.7.3"
  }
 },
 "nbformat": 4,
 "nbformat_minor": 2
}
